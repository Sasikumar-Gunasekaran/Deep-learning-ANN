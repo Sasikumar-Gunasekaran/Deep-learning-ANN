{
 "cells": [
  {
   "cell_type": "markdown",
   "metadata": {
    "id": "0oN3P7ui1_E_"
   },
   "source": [
    "# Artificial_Neural_Network"
   ]
  },
  {
   "cell_type": "markdown",
   "metadata": {
    "id": "9zEruNbhzWH2"
   },
   "source": [
    "### Importing the libraries"
   ]
  },
  {
   "cell_type": "code",
   "execution_count": 1,
   "metadata": {
    "id": "Op2bCI1XsrkI"
   },
   "outputs": [],
   "source": [
    "import numpy as np\n",
    "import pandas as pd\n",
    "import tensorflow as tf\n",
    "import os\n",
    "os.chdir(\"D:\\\\PGA16\")\n",
    "import pandas as pd"
   ]
  },
  {
   "cell_type": "code",
   "execution_count": 2,
   "metadata": {
    "colab": {
     "base_uri": "https://localhost:8080/",
     "height": 35
    },
    "id": "lMVe4-GHssmd",
    "outputId": "ace47267-a0c2-4427-aca4-a2f55025b0d0"
   },
   "outputs": [
    {
     "data": {
      "text/plain": [
       "'2.4.1'"
      ]
     },
     "execution_count": 2,
     "metadata": {},
     "output_type": "execute_result"
    }
   ],
   "source": [
    "tf.__version__"
   ]
  },
  {
   "cell_type": "markdown",
   "metadata": {
    "id": "IjH3MD7EzftY"
   },
   "source": [
    "# Data Preprocessing\n",
    "### Importing the dataset"
   ]
  },
  {
   "cell_type": "code",
   "execution_count": 3,
   "metadata": {
    "id": "4vCqhBcTstGL"
   },
   "outputs": [],
   "source": [
    "dataset = pd.read_csv('Churn_Modelling.csv')\n",
    "X = dataset.iloc[:, 3:-1].values\n",
    "y = dataset.iloc[:, -1].values"
   ]
  },
  {
   "cell_type": "code",
   "execution_count": 20,
   "metadata": {},
   "outputs": [
    {
     "data": {
      "text/html": [
       "<div>\n",
       "<style scoped>\n",
       "    .dataframe tbody tr th:only-of-type {\n",
       "        vertical-align: middle;\n",
       "    }\n",
       "\n",
       "    .dataframe tbody tr th {\n",
       "        vertical-align: top;\n",
       "    }\n",
       "\n",
       "    .dataframe thead th {\n",
       "        text-align: right;\n",
       "    }\n",
       "</style>\n",
       "<table border=\"1\" class=\"dataframe\">\n",
       "  <thead>\n",
       "    <tr style=\"text-align: right;\">\n",
       "      <th></th>\n",
       "      <th>RowNumber</th>\n",
       "      <th>CustomerId</th>\n",
       "      <th>Surname</th>\n",
       "      <th>CreditScore</th>\n",
       "      <th>Geography</th>\n",
       "      <th>Gender</th>\n",
       "      <th>Age</th>\n",
       "      <th>Tenure</th>\n",
       "      <th>Balance</th>\n",
       "      <th>NumOfProducts</th>\n",
       "      <th>HasCrCard</th>\n",
       "      <th>IsActiveMember</th>\n",
       "      <th>EstimatedSalary</th>\n",
       "      <th>Exited</th>\n",
       "    </tr>\n",
       "  </thead>\n",
       "  <tbody>\n",
       "    <tr>\n",
       "      <th>0</th>\n",
       "      <td>1</td>\n",
       "      <td>15634602</td>\n",
       "      <td>Hargrave</td>\n",
       "      <td>619</td>\n",
       "      <td>France</td>\n",
       "      <td>Female</td>\n",
       "      <td>42</td>\n",
       "      <td>2</td>\n",
       "      <td>0.00</td>\n",
       "      <td>1</td>\n",
       "      <td>1</td>\n",
       "      <td>1</td>\n",
       "      <td>101348.88</td>\n",
       "      <td>1</td>\n",
       "    </tr>\n",
       "    <tr>\n",
       "      <th>1</th>\n",
       "      <td>2</td>\n",
       "      <td>15647311</td>\n",
       "      <td>Hill</td>\n",
       "      <td>608</td>\n",
       "      <td>Spain</td>\n",
       "      <td>Female</td>\n",
       "      <td>41</td>\n",
       "      <td>1</td>\n",
       "      <td>83807.86</td>\n",
       "      <td>1</td>\n",
       "      <td>0</td>\n",
       "      <td>1</td>\n",
       "      <td>112542.58</td>\n",
       "      <td>0</td>\n",
       "    </tr>\n",
       "    <tr>\n",
       "      <th>2</th>\n",
       "      <td>3</td>\n",
       "      <td>15619304</td>\n",
       "      <td>Onio</td>\n",
       "      <td>502</td>\n",
       "      <td>France</td>\n",
       "      <td>Female</td>\n",
       "      <td>42</td>\n",
       "      <td>8</td>\n",
       "      <td>159660.80</td>\n",
       "      <td>3</td>\n",
       "      <td>1</td>\n",
       "      <td>0</td>\n",
       "      <td>113931.57</td>\n",
       "      <td>1</td>\n",
       "    </tr>\n",
       "    <tr>\n",
       "      <th>3</th>\n",
       "      <td>4</td>\n",
       "      <td>15701354</td>\n",
       "      <td>Boni</td>\n",
       "      <td>699</td>\n",
       "      <td>France</td>\n",
       "      <td>Female</td>\n",
       "      <td>39</td>\n",
       "      <td>1</td>\n",
       "      <td>0.00</td>\n",
       "      <td>2</td>\n",
       "      <td>0</td>\n",
       "      <td>0</td>\n",
       "      <td>93826.63</td>\n",
       "      <td>0</td>\n",
       "    </tr>\n",
       "    <tr>\n",
       "      <th>4</th>\n",
       "      <td>5</td>\n",
       "      <td>15737888</td>\n",
       "      <td>Mitchell</td>\n",
       "      <td>850</td>\n",
       "      <td>Spain</td>\n",
       "      <td>Female</td>\n",
       "      <td>43</td>\n",
       "      <td>2</td>\n",
       "      <td>125510.82</td>\n",
       "      <td>1</td>\n",
       "      <td>1</td>\n",
       "      <td>1</td>\n",
       "      <td>79084.10</td>\n",
       "      <td>0</td>\n",
       "    </tr>\n",
       "    <tr>\n",
       "      <th>...</th>\n",
       "      <td>...</td>\n",
       "      <td>...</td>\n",
       "      <td>...</td>\n",
       "      <td>...</td>\n",
       "      <td>...</td>\n",
       "      <td>...</td>\n",
       "      <td>...</td>\n",
       "      <td>...</td>\n",
       "      <td>...</td>\n",
       "      <td>...</td>\n",
       "      <td>...</td>\n",
       "      <td>...</td>\n",
       "      <td>...</td>\n",
       "      <td>...</td>\n",
       "    </tr>\n",
       "    <tr>\n",
       "      <th>9995</th>\n",
       "      <td>9996</td>\n",
       "      <td>15606229</td>\n",
       "      <td>Obijiaku</td>\n",
       "      <td>771</td>\n",
       "      <td>France</td>\n",
       "      <td>Male</td>\n",
       "      <td>39</td>\n",
       "      <td>5</td>\n",
       "      <td>0.00</td>\n",
       "      <td>2</td>\n",
       "      <td>1</td>\n",
       "      <td>0</td>\n",
       "      <td>96270.64</td>\n",
       "      <td>0</td>\n",
       "    </tr>\n",
       "    <tr>\n",
       "      <th>9996</th>\n",
       "      <td>9997</td>\n",
       "      <td>15569892</td>\n",
       "      <td>Johnstone</td>\n",
       "      <td>516</td>\n",
       "      <td>France</td>\n",
       "      <td>Male</td>\n",
       "      <td>35</td>\n",
       "      <td>10</td>\n",
       "      <td>57369.61</td>\n",
       "      <td>1</td>\n",
       "      <td>1</td>\n",
       "      <td>1</td>\n",
       "      <td>101699.77</td>\n",
       "      <td>0</td>\n",
       "    </tr>\n",
       "    <tr>\n",
       "      <th>9997</th>\n",
       "      <td>9998</td>\n",
       "      <td>15584532</td>\n",
       "      <td>Liu</td>\n",
       "      <td>709</td>\n",
       "      <td>France</td>\n",
       "      <td>Female</td>\n",
       "      <td>36</td>\n",
       "      <td>7</td>\n",
       "      <td>0.00</td>\n",
       "      <td>1</td>\n",
       "      <td>0</td>\n",
       "      <td>1</td>\n",
       "      <td>42085.58</td>\n",
       "      <td>1</td>\n",
       "    </tr>\n",
       "    <tr>\n",
       "      <th>9998</th>\n",
       "      <td>9999</td>\n",
       "      <td>15682355</td>\n",
       "      <td>Sabbatini</td>\n",
       "      <td>772</td>\n",
       "      <td>Germany</td>\n",
       "      <td>Male</td>\n",
       "      <td>42</td>\n",
       "      <td>3</td>\n",
       "      <td>75075.31</td>\n",
       "      <td>2</td>\n",
       "      <td>1</td>\n",
       "      <td>0</td>\n",
       "      <td>92888.52</td>\n",
       "      <td>1</td>\n",
       "    </tr>\n",
       "    <tr>\n",
       "      <th>9999</th>\n",
       "      <td>10000</td>\n",
       "      <td>15628319</td>\n",
       "      <td>Walker</td>\n",
       "      <td>792</td>\n",
       "      <td>France</td>\n",
       "      <td>Female</td>\n",
       "      <td>28</td>\n",
       "      <td>4</td>\n",
       "      <td>130142.79</td>\n",
       "      <td>1</td>\n",
       "      <td>1</td>\n",
       "      <td>0</td>\n",
       "      <td>38190.78</td>\n",
       "      <td>0</td>\n",
       "    </tr>\n",
       "  </tbody>\n",
       "</table>\n",
       "<p>10000 rows × 14 columns</p>\n",
       "</div>"
      ],
      "text/plain": [
       "      RowNumber  CustomerId    Surname  CreditScore Geography  Gender  Age  \\\n",
       "0             1    15634602   Hargrave          619    France  Female   42   \n",
       "1             2    15647311       Hill          608     Spain  Female   41   \n",
       "2             3    15619304       Onio          502    France  Female   42   \n",
       "3             4    15701354       Boni          699    France  Female   39   \n",
       "4             5    15737888   Mitchell          850     Spain  Female   43   \n",
       "...         ...         ...        ...          ...       ...     ...  ...   \n",
       "9995       9996    15606229   Obijiaku          771    France    Male   39   \n",
       "9996       9997    15569892  Johnstone          516    France    Male   35   \n",
       "9997       9998    15584532        Liu          709    France  Female   36   \n",
       "9998       9999    15682355  Sabbatini          772   Germany    Male   42   \n",
       "9999      10000    15628319     Walker          792    France  Female   28   \n",
       "\n",
       "      Tenure    Balance  NumOfProducts  HasCrCard  IsActiveMember  \\\n",
       "0          2       0.00              1          1               1   \n",
       "1          1   83807.86              1          0               1   \n",
       "2          8  159660.80              3          1               0   \n",
       "3          1       0.00              2          0               0   \n",
       "4          2  125510.82              1          1               1   \n",
       "...      ...        ...            ...        ...             ...   \n",
       "9995       5       0.00              2          1               0   \n",
       "9996      10   57369.61              1          1               1   \n",
       "9997       7       0.00              1          0               1   \n",
       "9998       3   75075.31              2          1               0   \n",
       "9999       4  130142.79              1          1               0   \n",
       "\n",
       "      EstimatedSalary  Exited  \n",
       "0           101348.88       1  \n",
       "1           112542.58       0  \n",
       "2           113931.57       1  \n",
       "3            93826.63       0  \n",
       "4            79084.10       0  \n",
       "...               ...     ...  \n",
       "9995         96270.64       0  \n",
       "9996        101699.77       0  \n",
       "9997         42085.58       1  \n",
       "9998         92888.52       1  \n",
       "9999         38190.78       0  \n",
       "\n",
       "[10000 rows x 14 columns]"
      ]
     },
     "execution_count": 20,
     "metadata": {},
     "output_type": "execute_result"
    }
   ],
   "source": [
    "dataset"
   ]
  },
  {
   "cell_type": "code",
   "execution_count": 4,
   "metadata": {
    "colab": {
     "base_uri": "https://localhost:8080/"
    },
    "id": "pfZin7R-stO0",
    "outputId": "700b8a9c-4b76-48d4-92eb-ba1778fb033a"
   },
   "outputs": [
    {
     "name": "stdout",
     "output_type": "stream",
     "text": [
      "[[619 'France' 'Female' ... 1 1 101348.88]\n",
      " [608 'Spain' 'Female' ... 0 1 112542.58]\n",
      " [502 'France' 'Female' ... 1 0 113931.57]\n",
      " ...\n",
      " [709 'France' 'Female' ... 0 1 42085.58]\n",
      " [772 'Germany' 'Male' ... 1 0 92888.52]\n",
      " [792 'France' 'Female' ... 1 0 38190.78]]\n"
     ]
    }
   ],
   "source": [
    "print(X)"
   ]
  },
  {
   "cell_type": "code",
   "execution_count": 5,
   "metadata": {
    "colab": {
     "base_uri": "https://localhost:8080/"
    },
    "id": "b27G7c7ystUj",
    "outputId": "d718aa01-f3ac-4ead-e98c-b39b3c30ddfb"
   },
   "outputs": [
    {
     "name": "stdout",
     "output_type": "stream",
     "text": [
      "[1 0 1 ... 1 1 0]\n"
     ]
    }
   ],
   "source": [
    "print(y)"
   ]
  },
  {
   "cell_type": "markdown",
   "metadata": {
    "id": "8XwCqFMczxOS"
   },
   "source": [
    "### Encoding categorical data\n",
    "Label Encoding the \"Gender\" column"
   ]
  },
  {
   "cell_type": "code",
   "execution_count": 6,
   "metadata": {
    "id": "B1vYFVWestbL"
   },
   "outputs": [],
   "source": [
    "from sklearn.preprocessing import LabelEncoder\n",
    "le = LabelEncoder()\n",
    "X[:, 2] = le.fit_transform(X[:, 2])"
   ]
  },
  {
   "cell_type": "code",
   "execution_count": 7,
   "metadata": {
    "colab": {
     "base_uri": "https://localhost:8080/"
    },
    "id": "5xtO1o6FstjF",
    "outputId": "80454811-0128-4c50-def7-d61e3e51f880"
   },
   "outputs": [
    {
     "name": "stdout",
     "output_type": "stream",
     "text": [
      "[[619 'France' 0 ... 1 1 101348.88]\n",
      " [608 'Spain' 0 ... 0 1 112542.58]\n",
      " [502 'France' 0 ... 1 0 113931.57]\n",
      " ...\n",
      " [709 'France' 0 ... 0 1 42085.58]\n",
      " [772 'Germany' 1 ... 1 0 92888.52]\n",
      " [792 'France' 0 ... 1 0 38190.78]]\n"
     ]
    }
   ],
   "source": [
    "print(X)"
   ]
  },
  {
   "cell_type": "markdown",
   "metadata": {
    "id": "o3IdPgdGz_Rr"
   },
   "source": [
    "One Hot Encoding the \"Geography\" column"
   ]
  },
  {
   "cell_type": "code",
   "execution_count": 8,
   "metadata": {
    "id": "ahXfLKT_stni"
   },
   "outputs": [],
   "source": [
    "from sklearn.compose import ColumnTransformer\n",
    "from sklearn.preprocessing import OneHotEncoder\n",
    "ct = ColumnTransformer(transformers=[('encoder', OneHotEncoder(), [1])], remainder='passthrough')\n",
    "X = np.array(ct.fit_transform(X))"
   ]
  },
  {
   "cell_type": "code",
   "execution_count": 9,
   "metadata": {
    "colab": {
     "base_uri": "https://localhost:8080/"
    },
    "id": "f5ENpRt1sttu",
    "outputId": "f626f82f-00e4-41d3-b7b1-7ac87aef240d"
   },
   "outputs": [
    {
     "name": "stdout",
     "output_type": "stream",
     "text": [
      "[[1.0 0.0 0.0 ... 1 1 101348.88]\n",
      " [0.0 0.0 1.0 ... 0 1 112542.58]\n",
      " [1.0 0.0 0.0 ... 1 0 113931.57]\n",
      " ...\n",
      " [1.0 0.0 0.0 ... 0 1 42085.58]\n",
      " [0.0 1.0 0.0 ... 1 0 92888.52]\n",
      " [1.0 0.0 0.0 ... 1 0 38190.78]]\n"
     ]
    }
   ],
   "source": [
    "print(X)"
   ]
  },
  {
   "cell_type": "markdown",
   "metadata": {
    "id": "GKFH37r80IQd"
   },
   "source": [
    "### Splitting the dataset into the Training set and Test set"
   ]
  },
  {
   "cell_type": "code",
   "execution_count": 10,
   "metadata": {
    "id": "_bOwXL3M0Hqd"
   },
   "outputs": [],
   "source": [
    "from sklearn.model_selection import train_test_split\n",
    "X_train, X_test, y_train, y_test = train_test_split(X, y, test_size = 0.2, random_state = 0)"
   ]
  },
  {
   "cell_type": "markdown",
   "metadata": {
    "id": "UxIMDY5k0QZl"
   },
   "source": [
    "### Feature Scaling"
   ]
  },
  {
   "cell_type": "code",
   "execution_count": 11,
   "metadata": {
    "id": "zZYx3LwS0RcF"
   },
   "outputs": [],
   "source": [
    "from sklearn.preprocessing import StandardScaler\n",
    "sc = StandardScaler()\n",
    "X_train = sc.fit_transform(X_train)\n",
    "X_test = sc.transform(X_test)"
   ]
  },
  {
   "cell_type": "markdown",
   "metadata": {
    "id": "r3tRc8dJ0Vuk"
   },
   "source": [
    "# Building the ANN\n",
    "### Initializing the ANN"
   ]
  },
  {
   "cell_type": "code",
   "execution_count": 12,
   "metadata": {
    "id": "f9HL0-ar0ctD"
   },
   "outputs": [],
   "source": [
    "ann = tf.keras.models.Sequential()"
   ]
  },
  {
   "cell_type": "markdown",
   "metadata": {
    "id": "ACTHcEzs0h7s"
   },
   "source": [
    "### Adding the input layer and the first hidden layer"
   ]
  },
  {
   "cell_type": "code",
   "execution_count": 13,
   "metadata": {
    "id": "OsJZPpo60g4t"
   },
   "outputs": [],
   "source": [
    "ann.add(tf.keras.layers.Dense(units=6, activation='relu'))"
   ]
  },
  {
   "cell_type": "markdown",
   "metadata": {
    "id": "nxO3dETC1BiW"
   },
   "source": [
    "### Adding the second hidden layer"
   ]
  },
  {
   "cell_type": "code",
   "execution_count": 14,
   "metadata": {
    "id": "JHgmbz9i0oSW"
   },
   "outputs": [],
   "source": [
    "ann.add(tf.keras.layers.Dense(units=6, activation='relu'))"
   ]
  },
  {
   "cell_type": "markdown",
   "metadata": {
    "id": "52KXKvRC1H_V"
   },
   "source": [
    "### Adding the output layer"
   ]
  },
  {
   "cell_type": "code",
   "execution_count": 15,
   "metadata": {
    "id": "RcXKzcTl1IqY"
   },
   "outputs": [],
   "source": [
    "ann.add(tf.keras.layers.Dense(units=1, activation='sigmoid'))"
   ]
  },
  {
   "cell_type": "markdown",
   "metadata": {
    "id": "2amer8_j1MnY"
   },
   "source": [
    "# Training the ANN\n",
    "### Compiling the ANN"
   ]
  },
  {
   "cell_type": "code",
   "execution_count": 16,
   "metadata": {
    "id": "l7iQZeAJ1O2p"
   },
   "outputs": [],
   "source": [
    "ann.compile(optimizer = 'adam', loss = 'binary_crossentropy', metrics = ['accuracy'])"
   ]
  },
  {
   "cell_type": "markdown",
   "metadata": {
    "id": "qAtHb3Mp1X3n"
   },
   "source": [
    "### Training the ANN on the Training set"
   ]
  },
  {
   "cell_type": "code",
   "execution_count": 17,
   "metadata": {
    "colab": {
     "base_uri": "https://localhost:8080/"
    },
    "id": "szUS71J81Yf2",
    "outputId": "96a75c75-8ab1-4f67-ed86-7e0b27bdbd4c"
   },
   "outputs": [
    {
     "name": "stdout",
     "output_type": "stream",
     "text": [
      "Epoch 1/100\n",
      "250/250 [==============================] - 1s 1ms/step - loss: 0.7886 - accuracy: 0.4219\n",
      "Epoch 2/100\n",
      "250/250 [==============================] - 0s 888us/step - loss: 0.5115 - accuracy: 0.7930\n",
      "Epoch 3/100\n",
      "250/250 [==============================] - 0s 876us/step - loss: 0.4600 - accuracy: 0.7910\n",
      "Epoch 4/100\n",
      "250/250 [==============================] - 0s 855us/step - loss: 0.4437 - accuracy: 0.8025\n",
      "Epoch 5/100\n",
      "250/250 [==============================] - 0s 900us/step - loss: 0.4018 - accuracy: 0.8247\n",
      "Epoch 6/100\n",
      "250/250 [==============================] - 0s 872us/step - loss: 0.3906 - accuracy: 0.8400\n",
      "Epoch 7/100\n",
      "250/250 [==============================] - 0s 904us/step - loss: 0.3843 - accuracy: 0.8412\n",
      "Epoch 8/100\n",
      "250/250 [==============================] - 0s 880us/step - loss: 0.3709 - accuracy: 0.8484\n",
      "Epoch 9/100\n",
      "250/250 [==============================] - 0s 880us/step - loss: 0.3619 - accuracy: 0.8520\n",
      "Epoch 10/100\n",
      "250/250 [==============================] - 0s 948us/step - loss: 0.3517 - accuracy: 0.8593\n",
      "Epoch 11/100\n",
      "250/250 [==============================] - 0s 955us/step - loss: 0.3549 - accuracy: 0.8532\n",
      "Epoch 12/100\n",
      "250/250 [==============================] - 0s 956us/step - loss: 0.3506 - accuracy: 0.8577\n",
      "Epoch 13/100\n",
      "250/250 [==============================] - 0s 854us/step - loss: 0.3413 - accuracy: 0.8633\n",
      "Epoch 14/100\n",
      "250/250 [==============================] - 0s 1ms/step - loss: 0.3507 - accuracy: 0.8591\n",
      "Epoch 15/100\n",
      "250/250 [==============================] - 0s 984us/step - loss: 0.3435 - accuracy: 0.8597\n",
      "Epoch 16/100\n",
      "250/250 [==============================] - 0s 919us/step - loss: 0.3434 - accuracy: 0.8571\n",
      "Epoch 17/100\n",
      "250/250 [==============================] - 0s 908us/step - loss: 0.3439 - accuracy: 0.8624\n",
      "Epoch 18/100\n",
      "250/250 [==============================] - 0s 911us/step - loss: 0.3386 - accuracy: 0.8628\n",
      "Epoch 19/100\n",
      "250/250 [==============================] - 0s 936us/step - loss: 0.3384 - accuracy: 0.8591\n",
      "Epoch 20/100\n",
      "250/250 [==============================] - 0s 910us/step - loss: 0.3459 - accuracy: 0.8577\n",
      "Epoch 21/100\n",
      "250/250 [==============================] - 0s 935us/step - loss: 0.3329 - accuracy: 0.8637\n",
      "Epoch 22/100\n",
      "250/250 [==============================] - 0s 917us/step - loss: 0.3399 - accuracy: 0.8642\n",
      "Epoch 23/100\n",
      "250/250 [==============================] - 0s 984us/step - loss: 0.3417 - accuracy: 0.8615\n",
      "Epoch 24/100\n",
      "250/250 [==============================] - 0s 952us/step - loss: 0.3346 - accuracy: 0.8617\n",
      "Epoch 25/100\n",
      "250/250 [==============================] - 0s 1ms/step - loss: 0.3454 - accuracy: 0.8590\n",
      "Epoch 26/100\n",
      "250/250 [==============================] - 0s 997us/step - loss: 0.3491 - accuracy: 0.8554\n",
      "Epoch 27/100\n",
      "250/250 [==============================] - 0s 960us/step - loss: 0.3479 - accuracy: 0.8590\n",
      "Epoch 28/100\n",
      "250/250 [==============================] - 0s 926us/step - loss: 0.3402 - accuracy: 0.8609\n",
      "Epoch 29/100\n",
      "250/250 [==============================] - 0s 972us/step - loss: 0.3493 - accuracy: 0.8584\n",
      "Epoch 30/100\n",
      "250/250 [==============================] - 0s 988us/step - loss: 0.3312 - accuracy: 0.8632\n",
      "Epoch 31/100\n",
      "250/250 [==============================] - 0s 964us/step - loss: 0.3278 - accuracy: 0.8690\n",
      "Epoch 32/100\n",
      "250/250 [==============================] - 0s 916us/step - loss: 0.3424 - accuracy: 0.8624\n",
      "Epoch 33/100\n",
      "250/250 [==============================] - 0s 968us/step - loss: 0.3411 - accuracy: 0.8640\n",
      "Epoch 34/100\n",
      "250/250 [==============================] - 0s 972us/step - loss: 0.3377 - accuracy: 0.8646\n",
      "Epoch 35/100\n",
      "250/250 [==============================] - 0s 972us/step - loss: 0.3376 - accuracy: 0.8614\n",
      "Epoch 36/100\n",
      "250/250 [==============================] - 0s 928us/step - loss: 0.3316 - accuracy: 0.8610\n",
      "Epoch 37/100\n",
      "250/250 [==============================] - 0s 956us/step - loss: 0.3312 - accuracy: 0.8666\n",
      "Epoch 38/100\n",
      "250/250 [==============================] - 0s 1ms/step - loss: 0.3412 - accuracy: 0.8610: 0s - loss: 0.3433 - accuracy: \n",
      "Epoch 39/100\n",
      "250/250 [==============================] - 0s 947us/step - loss: 0.3381 - accuracy: 0.8638\n",
      "Epoch 40/100\n",
      "250/250 [==============================] - 0s 1ms/step - loss: 0.3323 - accuracy: 0.8642\n",
      "Epoch 41/100\n",
      "250/250 [==============================] - 0s 986us/step - loss: 0.3416 - accuracy: 0.8591\n",
      "Epoch 42/100\n",
      "250/250 [==============================] - 0s 984us/step - loss: 0.3358 - accuracy: 0.8619\n",
      "Epoch 43/100\n",
      "250/250 [==============================] - 0s 1ms/step - loss: 0.3369 - accuracy: 0.8623\n",
      "Epoch 44/100\n",
      "250/250 [==============================] - 0s 964us/step - loss: 0.3481 - accuracy: 0.8567\n",
      "Epoch 45/100\n",
      "250/250 [==============================] - 0s 968us/step - loss: 0.3390 - accuracy: 0.8586\n",
      "Epoch 46/100\n",
      "250/250 [==============================] - 0s 996us/step - loss: 0.3431 - accuracy: 0.8607\n",
      "Epoch 47/100\n",
      "250/250 [==============================] - 0s 964us/step - loss: 0.3340 - accuracy: 0.8634\n",
      "Epoch 48/100\n",
      "250/250 [==============================] - 0s 968us/step - loss: 0.3332 - accuracy: 0.8616\n",
      "Epoch 49/100\n",
      "250/250 [==============================] - 0s 920us/step - loss: 0.3274 - accuracy: 0.8662\n",
      "Epoch 50/100\n",
      "250/250 [==============================] - 0s 940us/step - loss: 0.3398 - accuracy: 0.8596\n",
      "Epoch 51/100\n",
      "250/250 [==============================] - 0s 968us/step - loss: 0.3315 - accuracy: 0.8657\n",
      "Epoch 52/100\n",
      "250/250 [==============================] - 0s 948us/step - loss: 0.3306 - accuracy: 0.8673\n",
      "Epoch 53/100\n",
      "250/250 [==============================] - 0s 973us/step - loss: 0.3320 - accuracy: 0.8643\n",
      "Epoch 54/100\n",
      "250/250 [==============================] - 0s 984us/step - loss: 0.3363 - accuracy: 0.8607\n",
      "Epoch 55/100\n",
      "250/250 [==============================] - 0s 944us/step - loss: 0.3245 - accuracy: 0.8697\n",
      "Epoch 56/100\n",
      "250/250 [==============================] - 0s 1ms/step - loss: 0.3354 - accuracy: 0.8621\n",
      "Epoch 57/100\n",
      "250/250 [==============================] - 0s 980us/step - loss: 0.3283 - accuracy: 0.8649\n",
      "Epoch 58/100\n",
      "250/250 [==============================] - 0s 940us/step - loss: 0.3321 - accuracy: 0.8611\n",
      "Epoch 59/100\n",
      "250/250 [==============================] - 0s 949us/step - loss: 0.3420 - accuracy: 0.8590\n",
      "Epoch 60/100\n",
      "250/250 [==============================] - 0s 900us/step - loss: 0.3376 - accuracy: 0.8652\n",
      "Epoch 61/100\n",
      "250/250 [==============================] - 0s 888us/step - loss: 0.3210 - accuracy: 0.8694\n",
      "Epoch 62/100\n",
      "250/250 [==============================] - 0s 908us/step - loss: 0.3334 - accuracy: 0.8664\n",
      "Epoch 63/100\n",
      "250/250 [==============================] - 0s 936us/step - loss: 0.3253 - accuracy: 0.8688\n",
      "Epoch 64/100\n",
      "250/250 [==============================] - 0s 1ms/step - loss: 0.3279 - accuracy: 0.8686\n",
      "Epoch 65/100\n",
      "250/250 [==============================] - 0s 984us/step - loss: 0.3396 - accuracy: 0.8566\n",
      "Epoch 66/100\n",
      "250/250 [==============================] - 0s 948us/step - loss: 0.3353 - accuracy: 0.8627\n",
      "Epoch 67/100\n",
      "250/250 [==============================] - 0s 1ms/step - loss: 0.3316 - accuracy: 0.8671\n",
      "Epoch 68/100\n",
      "250/250 [==============================] - 0s 968us/step - loss: 0.3309 - accuracy: 0.8623\n",
      "Epoch 69/100\n",
      "250/250 [==============================] - 0s 920us/step - loss: 0.3440 - accuracy: 0.8589\n",
      "Epoch 70/100\n",
      "250/250 [==============================] - 0s 960us/step - loss: 0.3384 - accuracy: 0.8625\n",
      "Epoch 71/100\n",
      "250/250 [==============================] - 0s 916us/step - loss: 0.3347 - accuracy: 0.8587\n",
      "Epoch 72/100\n",
      "250/250 [==============================] - 0s 912us/step - loss: 0.3203 - accuracy: 0.8686\n",
      "Epoch 73/100\n",
      "250/250 [==============================] - 0s 908us/step - loss: 0.3255 - accuracy: 0.8656\n",
      "Epoch 74/100\n",
      "250/250 [==============================] - 0s 932us/step - loss: 0.3479 - accuracy: 0.8532\n",
      "Epoch 75/100\n",
      "250/250 [==============================] - 0s 992us/step - loss: 0.3322 - accuracy: 0.8636\n",
      "Epoch 76/100\n",
      "250/250 [==============================] - 0s 964us/step - loss: 0.3341 - accuracy: 0.8597\n",
      "Epoch 77/100\n",
      "250/250 [==============================] - 0s 1ms/step - loss: 0.3327 - accuracy: 0.8613\n",
      "Epoch 78/100\n",
      "250/250 [==============================] - 0s 932us/step - loss: 0.3403 - accuracy: 0.8601\n",
      "Epoch 79/100\n",
      "250/250 [==============================] - 0s 855us/step - loss: 0.3328 - accuracy: 0.8639\n",
      "Epoch 80/100\n",
      "250/250 [==============================] - 0s 872us/step - loss: 0.3330 - accuracy: 0.8592\n",
      "Epoch 81/100\n",
      "250/250 [==============================] - 0s 872us/step - loss: 0.3365 - accuracy: 0.8624\n",
      "Epoch 82/100\n",
      "250/250 [==============================] - 0s 860us/step - loss: 0.3305 - accuracy: 0.8659\n",
      "Epoch 83/100\n",
      "250/250 [==============================] - 0s 859us/step - loss: 0.3505 - accuracy: 0.8531\n",
      "Epoch 84/100\n",
      "250/250 [==============================] - 0s 847us/step - loss: 0.3392 - accuracy: 0.8601\n",
      "Epoch 85/100\n",
      "250/250 [==============================] - 0s 839us/step - loss: 0.3347 - accuracy: 0.8628\n",
      "Epoch 86/100\n",
      "250/250 [==============================] - 0s 819us/step - loss: 0.3322 - accuracy: 0.8666\n",
      "Epoch 87/100\n",
      "250/250 [==============================] - 0s 835us/step - loss: 0.3327 - accuracy: 0.8628\n",
      "Epoch 88/100\n",
      "250/250 [==============================] - 0s 795us/step - loss: 0.3236 - accuracy: 0.8650\n",
      "Epoch 89/100\n",
      "250/250 [==============================] - 0s 851us/step - loss: 0.3287 - accuracy: 0.8660\n",
      "Epoch 90/100\n",
      "250/250 [==============================] - 0s 884us/step - loss: 0.3476 - accuracy: 0.8531\n",
      "Epoch 91/100\n",
      "250/250 [==============================] - 0s 1ms/step - loss: 0.3391 - accuracy: 0.8635\n",
      "Epoch 92/100\n",
      "250/250 [==============================] - 0s 1ms/step - loss: 0.3339 - accuracy: 0.8573\n",
      "Epoch 93/100\n",
      "250/250 [==============================] - 0s 1ms/step - loss: 0.3323 - accuracy: 0.8611\n",
      "Epoch 94/100\n",
      "250/250 [==============================] - 0s 900us/step - loss: 0.3474 - accuracy: 0.8547\n",
      "Epoch 95/100\n",
      "250/250 [==============================] - 0s 851us/step - loss: 0.3335 - accuracy: 0.8617\n",
      "Epoch 96/100\n",
      "250/250 [==============================] - 0s 827us/step - loss: 0.3284 - accuracy: 0.8645\n",
      "Epoch 97/100\n",
      "250/250 [==============================] - 0s 835us/step - loss: 0.3299 - accuracy: 0.8628\n",
      "Epoch 98/100\n",
      "250/250 [==============================] - 0s 839us/step - loss: 0.3237 - accuracy: 0.8644\n",
      "Epoch 99/100\n",
      "250/250 [==============================] - 0s 912us/step - loss: 0.3290 - accuracy: 0.8614\n",
      "Epoch 100/100\n",
      "250/250 [==============================] - 0s 1ms/step - loss: 0.3348 - accuracy: 0.8599\n"
     ]
    },
    {
     "data": {
      "text/plain": [
       "<tensorflow.python.keras.callbacks.History at 0x12d82207d00>"
      ]
     },
     "execution_count": 17,
     "metadata": {},
     "output_type": "execute_result"
    }
   ],
   "source": [
    "ann.fit(X_train, y_train, batch_size = 32, epochs = 100)"
   ]
  },
  {
   "cell_type": "markdown",
   "metadata": {
    "id": "KSVnoo951wZ2"
   },
   "source": [
    "### Predicting the Test set results"
   ]
  },
  {
   "cell_type": "code",
   "execution_count": 18,
   "metadata": {
    "colab": {
     "base_uri": "https://localhost:8080/"
    },
    "id": "qYkd4vqv1vPe",
    "outputId": "c6882256-0428-447f-9a12-ca53d4775702"
   },
   "outputs": [
    {
     "name": "stdout",
     "output_type": "stream",
     "text": [
      "[[0 0]\n",
      " [0 1]\n",
      " [0 0]\n",
      " ...\n",
      " [0 0]\n",
      " [0 0]\n",
      " [0 0]]\n"
     ]
    }
   ],
   "source": [
    "y_pred = ann.predict(X_test)\n",
    "y_pred = (y_pred > 0.5)\n",
    "print(np.concatenate((y_pred.reshape(len(y_pred),1), y_test.reshape(len(y_test),1)),1))"
   ]
  },
  {
   "cell_type": "markdown",
   "metadata": {
    "id": "8s4hT5GM12x2"
   },
   "source": [
    "### Making the Confusion Matrix"
   ]
  },
  {
   "cell_type": "code",
   "execution_count": 19,
   "metadata": {
    "colab": {
     "base_uri": "https://localhost:8080/"
    },
    "id": "xeRgMYA-13YF",
    "outputId": "895ff5ea-b419-4a90-9959-00fe57279e23"
   },
   "outputs": [
    {
     "name": "stdout",
     "output_type": "stream",
     "text": [
      "[[1501   94]\n",
      " [ 188  217]]\n"
     ]
    },
    {
     "data": {
      "text/plain": [
       "0.859"
      ]
     },
     "execution_count": 19,
     "metadata": {},
     "output_type": "execute_result"
    }
   ],
   "source": [
    "from sklearn.metrics import confusion_matrix, accuracy_score\n",
    "cm = confusion_matrix(y_test, y_pred)\n",
    "print(cm)\n",
    "accuracy_score(y_test, y_pred)"
   ]
  },
  {
   "cell_type": "code",
   "execution_count": null,
   "metadata": {},
   "outputs": [],
   "source": []
  }
 ],
 "metadata": {
  "accelerator": "GPU",
  "colab": {
   "name": "Copy of Untitled5.ipynb",
   "provenance": []
  },
  "kernelspec": {
   "display_name": "Python 3",
   "language": "python",
   "name": "python3"
  },
  "language_info": {
   "codemirror_mode": {
    "name": "ipython",
    "version": 3
   },
   "file_extension": ".py",
   "mimetype": "text/x-python",
   "name": "python",
   "nbconvert_exporter": "python",
   "pygments_lexer": "ipython3",
   "version": "3.8.8"
  }
 },
 "nbformat": 4,
 "nbformat_minor": 1
}
